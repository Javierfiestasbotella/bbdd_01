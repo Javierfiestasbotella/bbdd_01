{
 "cells": [
  {
   "cell_type": "code",
   "execution_count": 15,
   "id": "98c0b977",
   "metadata": {},
   "outputs": [
    {
     "name": "stdout",
     "output_type": "stream",
     "text": [
      "Introduce la cantidad de elementos: 2\n",
      "Introduce el nombre de la columna: nombre1\n",
      "Introduce el tipo de la columna nombre1 (por ejemplo, VARCHAR, INTEGER): VARCHAR\n",
      "Introduce el nombre de la columna: nombre2\n",
      "Introduce el tipo de la columna nombre2 (por ejemplo, VARCHAR, INTEGER): INTEGER\n"
     ]
    }
   ],
   "source": [
    "import sqlite3\n",
    "\n",
    "class Bbdd:\n",
    "    def __init__(self):\n",
    "        self.columnas = {}\n",
    "\n",
    "    def crea_diccionario_columnas(self):\n",
    "        \"\"\"\n",
    "        Crea un diccionario de columnas interactivo.\n",
    "\n",
    "        Solicita al usuario la cantidad de elementos, el nombre y tipo de cada columna.\n",
    "\n",
    "        Ejemplo:\n",
    "        >>> bbdd = Bbdd()\n",
    "        >>> bbdd.crea_diccionario_columnas()  # input '2', 'nombre1', 'VARCHAR', 'nombre2', 'INTEGER'\n",
    "        {'nombre1': 'VARCHAR', 'nombre2': 'INTEGER'}\n",
    "        \"\"\"\n",
    "        while True:\n",
    "            try:\n",
    "                self.cantidad_elementos = int(input('Introduce la cantidad de elementos: '))\n",
    "                if self.cantidad_elementos >= 0:\n",
    "                    break\n",
    "                else:\n",
    "                    print('Error: Ingresa un número entero no negativo para la cantidad de elementos.')\n",
    "            except ValueError:\n",
    "                print('Error: Ingresa un número entero para la cantidad de elementos.')\n",
    "\n",
    "        for _ in range(self.cantidad_elementos):\n",
    "            while True:\n",
    "                try:\n",
    "                    self.nombre_columna = input('Introduce el nombre de la columna: ')\n",
    "                    self.tipo_columna = input(f'Introduce el tipo de la columna {self.nombre_columna} (por ejemplo, VARCHAR, INTEGER): ')\n",
    "                    self.columnas[self.nombre_columna] = self.tipo_columna\n",
    "                    break\n",
    "                except ValueError:\n",
    "                    print('Error: Ingresa un tipo de dato válido para la columna.')\n",
    "\n",
    "        return self.columnas\n",
    "\n",
    "    def crear_bbdd(self, nombre_bbdd, nombre_tabla):\n",
    "        \"\"\"\n",
    "        Crea una base de datos SQLite con la tabla especificada.\n",
    "\n",
    "        :param nombre_bbdd: Nombre de la base de datos.\n",
    "        :param nombre_tabla: Nombre de la tabla.\n",
    "        \"\"\"\n",
    "        self.conn = sqlite3.connect(nombre_bbdd)\n",
    "        self.cursor = self.conn.cursor()\n",
    "\n",
    "        self.columnas_sql = ', '.join([f'{key} {value}' for key, value in self.columnas.items()])\n",
    "        self.cursor.execute(f'''\n",
    "            CREATE TABLE {nombre_tabla} (\n",
    "                id INTEGER PRIMARY KEY AUTOINCREMENT,\n",
    "                {self.columnas_sql}\n",
    "            )\n",
    "        ''')\n",
    "\n",
    "        self.conn.commit()\n",
    "        self.conn.close()\n",
    "\n",
    "if __name__ == \"__main__\":\n",
    "    import doctest\n",
    "    doctest.testmod()\n"
   ]
  }
 ],
 "metadata": {
  "kernelspec": {
   "display_name": "Python 3 (ipykernel)",
   "language": "python",
   "name": "python3"
  },
  "language_info": {
   "codemirror_mode": {
    "name": "ipython",
    "version": 3
   },
   "file_extension": ".py",
   "mimetype": "text/x-python",
   "name": "python",
   "nbconvert_exporter": "python",
   "pygments_lexer": "ipython3",
   "version": "3.9.13"
  }
 },
 "nbformat": 4,
 "nbformat_minor": 5
}
