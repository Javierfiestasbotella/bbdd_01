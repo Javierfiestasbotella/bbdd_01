{
 "cells": [
  {
   "cell_type": "markdown",
   "id": "a61aaa89",
   "metadata": {},
   "source": [
    "# Creación de BBDD"
   ]
  },
  {
   "cell_type": "code",
   "execution_count": null,
   "id": "f6e3e9af",
   "metadata": {},
   "outputs": [],
   "source": [
    "import sqlite3\n",
    "\n",
    "def crea_bbdd(nombre_tabla, columnas):\n",
    "    mi_conexion = sqlite3.connect('Biblioteca.db')\n",
    "    mi_cursor = mi_conexion.cursor()\n",
    "\n",
    "    # Construir la parte de la consulta SQL para las columnas\n",
    "    columnas_sql = ', '.join([f'{key} {value}' for key, value in columnas.items()])\n",
    "    \n",
    "    # Crear la tabla\n",
    "    mi_cursor.execute(f'''\n",
    "        CREATE TABLE {nombre_tabla} (\n",
    "            id INTEGER PRIMARY KEY AUTOINCREMENT,\n",
    "            {columnas_sql}\n",
    "        )\n",
    "    ''')\n",
    "    \n",
    "    mi_conexion.commit()\n",
    "    mi_conexion.close()\n",
    "\n",
    "\n",
    "\n",
    "def crea_diccionario_columnas():\n",
    "    diccionario_columnas = {}\n",
    "    \n",
    "    cantidad_elementos = int(input('Introduce la cantidad de elementos: '))\n",
    "    \n",
    "    for _ in range(cantidad_elementos):\n",
    "        nombre_columna = input('Introduce el nombre de la columna: ')\n",
    "        tipo_columna = input(f'Introduce el tipo de la columna {nombre_columna} (por ejemplo, VARCHAR, INTEGER): ')\n",
    "        diccionario_columnas[nombre_columna] = tipo_columna\n",
    "    \n",
    "    return diccionario_columnas\n",
    "\n",
    "def inserta_datos(nombre_tabla, columnas):\n",
    "    mi_conexion = sqlite3.connect('Biblioteca.db')\n",
    "    mi_cursor = mi_conexion.cursor()\n",
    "\n",
    "    valores = tuple(input(f'Introduce {key}: ') for key in columnas.keys())\n",
    "    mi_cursor.execute(f'INSERT INTO {nombre_tabla} VALUES (NULL, {\", \".join([\"?\"] * len(columnas))})', valores)\n",
    "\n",
    "    mi_conexion.commit()\n",
    "    mi_conexion.close()\n",
    "\n",
    "    \n",
    "if __name__ == \"__main__\":\n",
    "\n",
    "    nombre_tabla = input('Introduce nombre de la tabla: ')\n",
    "    diccionario_columnas=crea_diccionario_columnas()\n",
    "    crea_bbdd(nombre_tabla, diccionario_columnas)\n",
    "    insert=input('¿Quieres introducir datos en la tabla creada? ')\n",
    "    if insert.lower() == 'si':\n",
    "        while True:\n",
    "            inserta_datos(nombre_tabla, diccionario_columnas)\n",
    "            seguir = input('Quieres introducir más datos (si/no): ')\n",
    "            if seguir.lower() != 'si':\n",
    "                break\n",
    "    "
   ]
  }
 ],
 "metadata": {
  "kernelspec": {
   "display_name": "Python 3 (ipykernel)",
   "language": "python",
   "name": "python3"
  },
  "language_info": {
   "codemirror_mode": {
    "name": "ipython",
    "version": 3
   },
   "file_extension": ".py",
   "mimetype": "text/x-python",
   "name": "python",
   "nbconvert_exporter": "python",
   "pygments_lexer": "ipython3",
   "version": "3.9.13"
  }
 },
 "nbformat": 4,
 "nbformat_minor": 5
}
